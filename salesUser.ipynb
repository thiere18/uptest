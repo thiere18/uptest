{
  "nbformat": 4,
  "nbformat_minor": 0,
  "metadata": {
    "colab": {
      "name": "salesUser.ipynb",
      "provenance": [],
      "authorship_tag": "ABX9TyMg8u16Ic7RsWdDzQNN1A5T",
      "include_colab_link": true
    },
    "kernelspec": {
      "name": "python3",
      "display_name": "Python 3"
    },
    "language_info": {
      "name": "python"
    }
  },
  "cells": [
    {
      "cell_type": "markdown",
      "metadata": {
        "id": "view-in-github",
        "colab_type": "text"
      },
      "source": [
        "<a href=\"https://colab.research.google.com/github/thiere18/uptest/blob/master/salesUser.ipynb\" target=\"_parent\"><img src=\"https://colab.research.google.com/assets/colab-badge.svg\" alt=\"Open In Colab\"/></a>"
      ]
    },
    {
      "cell_type": "code",
      "execution_count": null,
      "metadata": {
        "id": "BpZoPF9r4Z0h"
      },
      "outputs": [],
      "source": [
        "!pip install simple_salesforce"
      ]
    },
    {
      "cell_type": "markdown",
      "source": [
        "impports"
      ],
      "metadata": {
        "id": "_0anBByyhXMN"
      }
    },
    {
      "cell_type": "code",
      "source": [
        "from xml import dom\n",
        "from simple_salesforce import Salesforce, SalesforceLogin ,SFType\n",
        "import pandas as pd\n",
        "import json "
      ],
      "metadata": {
        "id": "Y1wCZo0NXJf1"
      },
      "execution_count": 2,
      "outputs": []
    },
    {
      "cell_type": "code",
      "source": [
        ""
      ],
      "metadata": {
        "id": "HmZucrR3hdDe"
      },
      "execution_count": null,
      "outputs": []
    },
    {
      "cell_type": "code",
      "source": [
        "login_info = json.load(open('login.json'))\n",
        "\n",
        "username=login_info['username']\n",
        "password=login_info['password']\n",
        "security_token=login_info['security_token']\n",
        "\n",
        "domain=login_info['domain']\n",
        "\n",
        "session_id, instance = SalesforceLogin(username=username, password=password, security_token=security_token, domain=domain)\n",
        "\n",
        "sf = Salesforce(instance=instance, session_id=session_id)\n",
        "\n",
        "data=sf.query(\"SELECT Id, Alias, Name, Username, Email, IsActive FROM User\")\n",
        "\n",
        "df=pd.DataFrame(data['records'])\n",
        "df.drop('attributes', inplace=True, axis=1)\n"
      ],
      "metadata": {
        "id": "WtumCGhbXMRr"
      },
      "execution_count": 13,
      "outputs": []
    },
    {
      "cell_type": "code",
      "source": [
        "df.info()"
      ],
      "metadata": {
        "colab": {
          "base_uri": "https://localhost:8080/"
        },
        "id": "3p3eQJZdXaAk",
        "outputId": "88b8d30b-a4f0-49d3-c2be-8ca1c04c5865"
      },
      "execution_count": 16,
      "outputs": [
        {
          "output_type": "stream",
          "name": "stdout",
          "text": [
            "<class 'pandas.core.frame.DataFrame'>\n",
            "RangeIndex: 7 entries, 0 to 6\n",
            "Data columns (total 6 columns):\n",
            " #   Column    Non-Null Count  Dtype \n",
            "---  ------    --------------  ----- \n",
            " 0   Id        7 non-null      object\n",
            " 1   Alias     7 non-null      object\n",
            " 2   Name      7 non-null      object\n",
            " 3   Username  7 non-null      object\n",
            " 4   Email     7 non-null      object\n",
            " 5   IsActive  7 non-null      bool  \n",
            "dtypes: bool(1), object(5)\n",
            "memory usage: 415.0+ bytes\n"
          ]
        }
      ]
    },
    {
      "cell_type": "markdown",
      "source": [
        ""
      ],
      "metadata": {
        "id": "W6zTSyrmhVsc"
      }
    }
  ]
}